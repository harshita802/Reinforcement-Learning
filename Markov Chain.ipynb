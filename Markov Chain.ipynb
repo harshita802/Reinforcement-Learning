{
  "nbformat": 4,
  "nbformat_minor": 0,
  "metadata": {
    "colab": {
      "provenance": [],
      "authorship_tag": "ABX9TyNrbniCtZ6JCJLzN9yMPNCI",
      "include_colab_link": true
    },
    "kernelspec": {
      "name": "python3",
      "display_name": "Python 3"
    },
    "language_info": {
      "name": "python"
    }
  },
  "cells": [
    {
      "cell_type": "markdown",
      "metadata": {
        "id": "view-in-github",
        "colab_type": "text"
      },
      "source": [
        "<a href=\"https://colab.research.google.com/github/harshita802/Reinforcement-Learning/blob/main/Markov%20Chain.ipynb\" target=\"_parent\"><img src=\"https://colab.research.google.com/assets/colab-badge.svg\" alt=\"Open In Colab\"/></a>"
      ]
    },
    {
      "cell_type": "code",
      "execution_count": 1,
      "metadata": {
        "id": "CG-dzV2qTk4w"
      },
      "outputs": [],
      "source": [
        "import numpy as np\n",
        "import random as rm"
      ]
    },
    {
      "cell_type": "code",
      "source": [
        "# The statespace\n",
        "states = [\"Sleep\",\"Icecream\",\"Run\"]\n",
        "\n",
        "# Possible sequences of events\n",
        "transitionName = [[\"SS\",\"SR\",\"SI\"],[\"RS\",\"RR\",\"RI\"],[\"IS\",\"IR\",\"II\"]]\n",
        "\n",
        "# Probabilities matrix (transition matrix)\n",
        "transitionMatrix = [[0.2,0.6,0.2],[0.1,0.6,0.3],[0.2,0.7,0.1]]\n",
        "transitionMatrix"
      ],
      "metadata": {
        "colab": {
          "base_uri": "https://localhost:8080/"
        },
        "id": "ILP8i1-HUcAk",
        "outputId": "77310e5a-f1f0-4e28-9787-db004eae5171"
      },
      "execution_count": 3,
      "outputs": [
        {
          "output_type": "execute_result",
          "data": {
            "text/plain": [
              "[[0.2, 0.6, 0.2], [0.1, 0.6, 0.3], [0.2, 0.7, 0.1]]"
            ]
          },
          "metadata": {},
          "execution_count": 3
        }
      ]
    },
    {
      "cell_type": "code",
      "source": [
        "if sum(transitionMatrix[0])+sum(transitionMatrix[1])+sum(transitionMatrix[1]) != 3:\n",
        "  print(\"Somewhere, something went wrong. Transition matrix, perhaps?\")\n",
        "else:\n",
        "  print(\"All is gonna be okay, you should move on!!\")"
      ],
      "metadata": {
        "colab": {
          "base_uri": "https://localhost:8080/"
        },
        "id": "Li8JBEOcUftw",
        "outputId": "ebb206fd-a2fb-4d69-fb52-6be0161795e0"
      },
      "execution_count": 4,
      "outputs": [
        {
          "output_type": "stream",
          "name": "stdout",
          "text": [
            "All is gonna be okay, you should move on!!\n"
          ]
        }
      ]
    },
    {
      "cell_type": "code",
      "source": [
        "# A function that implements the Markov model to forecast the state/mood.\n",
        "def activity_forecast(days):\n",
        "    # Choose the starting state\n",
        "    activityToday = \"Sleep\"\n",
        "    print(\"Start state: \" + activityToday)\n",
        "    # Shall store the sequence of states taken. So, this only has the starting state for now.\n",
        "    activityList = [activityToday]\n",
        "    i = 0\n",
        "    # To calculate the probability of the activityList\n",
        "    prob = 1\n",
        "    while i != days:\n",
        "      if activityToday == \"Sleep\":\n",
        "        change = np.random.choice(transitionName[0],replace=True,p=transitionMatrix[0])\n",
        "        if change == \"SS\":\n",
        "          prob = prob * 0.2\n",
        "          activityList.append(\"Sleep\")\n",
        "          pass\n",
        "        elif change == \"SR\":\n",
        "          prob = prob * 0.6\n",
        "          activityToday = \"Run\"\n",
        "          activityList.append(\"Run\")\n",
        "        else:\n",
        "          prob = prob * 0.2\n",
        "          activityToday = \"Icecream\"\n",
        "          activityList.append(\"Icecream\")\n",
        "          \n",
        "      elif activityToday == \"Run\":\n",
        "          change = np.random.choice(transitionName[1],replace=True,p=transitionMatrix[1])\n",
        "          if change == \"RR\":\n",
        "              prob = prob * 0.5\n",
        "              activityList.append(\"Run\")\n",
        "              pass\n",
        "          elif change == \"RS\":\n",
        "              prob = prob * 0.2\n",
        "              activityToday = \"Sleep\"\n",
        "              activityList.append(\"Sleep\")\n",
        "          else:\n",
        "              prob = prob * 0.3\n",
        "              activityToday = \"Icecream\"\n",
        "              activityList.append(\"Icecream\")\n",
        "      elif activityToday == \"Icecream\":\n",
        "          change = np.random.choice(transitionName[2],replace=True,p=transitionMatrix[2])\n",
        "          if change == \"II\":\n",
        "              prob = prob * 0.1\n",
        "              activityList.append(\"Icecream\")\n",
        "              pass\n",
        "          elif change == \"IS\":\n",
        "              prob = prob * 0.2\n",
        "              activityToday = \"Sleep\"\n",
        "              activityList.append(\"Sleep\")\n",
        "          else:\n",
        "              prob = prob * 0.7\n",
        "              activityToday = \"Run\"\n",
        "              activityList.append(\"Run\")\n",
        "      i += 1  \n",
        "    print(\"Possible states: \" + str(activityList))\n",
        "    print(\"End state after \"+ str(days) + \" days: \" + activityToday)\n",
        "    print(\"Probability of the possible sequence of states: \" + str(prob))\n",
        "\n",
        "# Function that forecasts the possible state for the next 2 days\n",
        "activity_forecast(2)"
      ],
      "metadata": {
        "colab": {
          "base_uri": "https://localhost:8080/"
        },
        "id": "bQTtjjzgUjAo",
        "outputId": "94a4620e-9297-4b51-a37e-aef89e2eaece"
      },
      "execution_count": 6,
      "outputs": [
        {
          "output_type": "stream",
          "name": "stdout",
          "text": [
            "Start state: Sleep\n",
            "Possible states: ['Sleep', 'Run', 'Sleep']\n",
            "End state after 2 days: Sleep\n",
            "Probability of the possible sequence of states: 0.12\n"
          ]
        }
      ]
    },
    {
      "cell_type": "code",
      "source": [
        "def activity_forecast(days):\n",
        "    # Choose the starting state\n",
        "    activityToday = \"Sleep\"\n",
        "    activityList = [activityToday]\n",
        "    i = 0\n",
        "    prob = 1\n",
        "    while i != days:\n",
        "        if activityToday == \"Sleep\":\n",
        "            change = np.random.choice(transitionName[0],replace=True,p=transitionMatrix[0])\n",
        "            if change == \"SS\":\n",
        "                prob = prob * 0.2\n",
        "                activityList.append(\"Sleep\")\n",
        "                pass\n",
        "            elif change == \"SR\":\n",
        "                prob = prob * 0.6\n",
        "                activityToday = \"Run\"\n",
        "                activityList.append(\"Run\")\n",
        "            else:\n",
        "                prob = prob * 0.2\n",
        "                activityToday = \"Icecream\"\n",
        "                activityList.append(\"Icecream\")\n",
        "        elif activityToday == \"Run\":\n",
        "            change = np.random.choice(transitionName[1],replace=True,p=transitionMatrix[1])\n",
        "            if change == \"RR\":\n",
        "                prob = prob * 0.5\n",
        "                activityList.append(\"Run\")\n",
        "                pass\n",
        "            elif change == \"RS\":\n",
        "                prob = prob * 0.2\n",
        "                activityToday = \"Sleep\"\n",
        "                activityList.append(\"Sleep\")\n",
        "            else:\n",
        "                prob = prob * 0.3\n",
        "                activityToday = \"Icecream\"\n",
        "                activityList.append(\"Icecream\")\n",
        "        elif activityToday == \"Icecream\":\n",
        "            change = np.random.choice(transitionName[2],replace=True,p=transitionMatrix[2])\n",
        "            if change == \"II\":\n",
        "                prob = prob * 0.1\n",
        "                activityList.append(\"Icecream\")\n",
        "                pass\n",
        "            elif change == \"IS\":\n",
        "               prob = prob * 0.2\n",
        "               activityToday = \"Sleep\"\n",
        "               activityList.append(\"Sleep\")\n",
        "            else:\n",
        "                prob = prob * 0.7\n",
        "                activityToday = \"Run\"\n",
        "                activityList.append(\"Run\")\n",
        "        i += 1    \n",
        "    return activityList\n",
        "\n",
        "# To save every activityList\n",
        "list_activity = []\n",
        "count = 0\n",
        "\n",
        "# `Range` starts from the first count up until but excluding the last count\n",
        "for iterations in range(1,10000):\n",
        "        list_activity.append(activity_forecast(2))\n",
        "\n",
        "# Check out all the `activityList` we collected    \n",
        "#print(list_activity)\n",
        "\n",
        "# Iterate through the list to get a count of all activities ending in state:'Run'\n",
        "for smaller_list in list_activity:\n",
        "    if(smaller_list[2] == \"Run\"):\n",
        "        count += 1\n",
        "\n",
        "# Calculate the probability of starting from state:'Sleep' and ending at state:'Run'\n",
        "percentage = (count/10000) * 100\n",
        "print(\"The probability of starting at state:'Sleep' and ending at state:'Run'= \" + str(percentage) + \"%\")"
      ],
      "metadata": {
        "colab": {
          "base_uri": "https://localhost:8080/"
        },
        "id": "z6OtIKHFVNZl",
        "outputId": "870d084f-532a-4ce8-ec11-a47a1e304e25"
      },
      "execution_count": 9,
      "outputs": [
        {
          "output_type": "stream",
          "name": "stdout",
          "text": [
            "The probability of starting at state:'Sleep' and ending at state:'Run'= 62.18%\n"
          ]
        }
      ]
    }
  ]
}