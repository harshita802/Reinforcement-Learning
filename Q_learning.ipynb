{
  "nbformat": 4,
  "nbformat_minor": 0,
  "metadata": {
    "colab": {
      "provenance": [],
      "authorship_tag": "ABX9TyMrhQiTwy7vfcX3+l+jSja2",
      "include_colab_link": true
    },
    "kernelspec": {
      "name": "python3",
      "display_name": "Python 3"
    },
    "language_info": {
      "name": "python"
    }
  },
  "cells": [
    {
      "cell_type": "markdown",
      "metadata": {
        "id": "view-in-github",
        "colab_type": "text"
      },
      "source": [
        "<a href=\"https://colab.research.google.com/github/harshita802/Reinforcement-Learning/blob/main/Q_learning.ipynb\" target=\"_parent\"><img src=\"https://colab.research.google.com/assets/colab-badge.svg\" alt=\"Open In Colab\"/></a>"
      ]
    },
    {
      "cell_type": "code",
      "execution_count": 3,
      "metadata": {
        "id": "XZ5O2RFS34tD"
      },
      "outputs": [],
      "source": [
        "import numpy as np\n",
        "R=np.matrix([[-1,-1,-1,-1,0,-1],\n",
        "             [-1,-1,-1,0,-1,100],\n",
        "             [-1,-1,-1,0,-1,-1],\n",
        "             [-1,0,0,-1,0,-1],\n",
        "             [-1,0,0,-1,-1,100],\n",
        "             [-1,0,-1,-1,0,100]])"
      ]
    },
    {
      "cell_type": "code",
      "source": [
        "R"
      ],
      "metadata": {
        "colab": {
          "base_uri": "https://localhost:8080/"
        },
        "id": "vMRp7z8r41dk",
        "outputId": "aa00b18b-b195-4322-bdad-e7e34ebc60d1"
      },
      "execution_count": 4,
      "outputs": [
        {
          "output_type": "execute_result",
          "data": {
            "text/plain": [
              "matrix([[ -1,  -1,  -1,  -1,   0,  -1],\n",
              "        [ -1,  -1,  -1,   0,  -1, 100],\n",
              "        [ -1,  -1,  -1,   0,  -1,  -1],\n",
              "        [ -1,   0,   0,  -1,   0,  -1],\n",
              "        [ -1,   0,   0,  -1,  -1, 100],\n",
              "        [ -1,   0,  -1,  -1,   0, 100]])"
            ]
          },
          "metadata": {},
          "execution_count": 4
        }
      ]
    },
    {
      "cell_type": "code",
      "source": [
        "Q=np.matrix(np.zeros([6,6]))\n",
        "Q"
      ],
      "metadata": {
        "colab": {
          "base_uri": "https://localhost:8080/"
        },
        "id": "laC5x3o14YSv",
        "outputId": "6d8d469c-b4c9-4653-d4b8-d4838cbfcd3d"
      },
      "execution_count": 5,
      "outputs": [
        {
          "output_type": "execute_result",
          "data": {
            "text/plain": [
              "matrix([[0., 0., 0., 0., 0., 0.],\n",
              "        [0., 0., 0., 0., 0., 0.],\n",
              "        [0., 0., 0., 0., 0., 0.],\n",
              "        [0., 0., 0., 0., 0., 0.],\n",
              "        [0., 0., 0., 0., 0., 0.],\n",
              "        [0., 0., 0., 0., 0., 0.]])"
            ]
          },
          "metadata": {},
          "execution_count": 5
        }
      ]
    },
    {
      "cell_type": "code",
      "source": [
        "gamma=0.8\n",
        "initial_state=1"
      ],
      "metadata": {
        "id": "Fwn6zIWm5CJe"
      },
      "execution_count": 6,
      "outputs": []
    },
    {
      "cell_type": "code",
      "source": [
        "def available_actions(state):\n",
        "  current_state_row=R[state,]\n",
        "  av_act=np.where(current_state_row>=0)[1]\n",
        "  return av_act"
      ],
      "metadata": {
        "id": "LkdOhSPx5M7s"
      },
      "execution_count": 7,
      "outputs": []
    },
    {
      "cell_type": "code",
      "source": [
        "available_act=available_actions(initial_state)\n",
        "available_act"
      ],
      "metadata": {
        "colab": {
          "base_uri": "https://localhost:8080/"
        },
        "id": "NEeMzT5p5pQ_",
        "outputId": "018a653d-c8d8-4338-98c1-95db5f9e616c"
      },
      "execution_count": 8,
      "outputs": [
        {
          "output_type": "execute_result",
          "data": {
            "text/plain": [
              "array([3, 5])"
            ]
          },
          "metadata": {},
          "execution_count": 8
        }
      ]
    },
    {
      "cell_type": "code",
      "source": [
        "def sample_next_action(available_actions_range):\n",
        "  next_action=int(np.random.choice(available_act,1))\n",
        "  return next_action"
      ],
      "metadata": {
        "id": "afgjZvUH56Ub"
      },
      "execution_count": 9,
      "outputs": []
    },
    {
      "cell_type": "code",
      "source": [
        "action=sample_next_action(available_act)\n",
        "action"
      ],
      "metadata": {
        "colab": {
          "base_uri": "https://localhost:8080/"
        },
        "id": "otG2pgra641j",
        "outputId": "c94fa7c3-f618-474b-ffb3-21c67ddd9f87"
      },
      "execution_count": 10,
      "outputs": [
        {
          "output_type": "execute_result",
          "data": {
            "text/plain": [
              "5"
            ]
          },
          "metadata": {},
          "execution_count": 10
        }
      ]
    },
    {
      "cell_type": "code",
      "source": [
        "def update(current_state,action,gamma):\n",
        "  max_index=np.where(Q[action,]==np.max(Q[action,]))[1]\n",
        "  if max_index.shape[0]>1:\n",
        "    max_index=int(np.random.choice(max_index,size=1))\n",
        "  else:\n",
        "    max_index=int(max_index)\n",
        "  max_value=Q[action,max_index]\n",
        "  #Q learning formula\n",
        "  Q[current_state,action]=R[current_state,action]+gamma*max_value\n",
        "  #update Q leaning\n",
        "update(initial_state,action,gamma)"
      ],
      "metadata": {
        "id": "pyKOFpiH8BP8"
      },
      "execution_count": 11,
      "outputs": []
    },
    {
      "cell_type": "code",
      "source": [
        "Q"
      ],
      "metadata": {
        "colab": {
          "base_uri": "https://localhost:8080/"
        },
        "id": "W_cu0X758EJs",
        "outputId": "9b06ad61-419f-47a1-b4fa-0272f9b8a217"
      },
      "execution_count": 12,
      "outputs": [
        {
          "output_type": "execute_result",
          "data": {
            "text/plain": [
              "matrix([[  0.,   0.,   0.,   0.,   0.,   0.],\n",
              "        [  0.,   0.,   0.,   0.,   0., 100.],\n",
              "        [  0.,   0.,   0.,   0.,   0.,   0.],\n",
              "        [  0.,   0.,   0.,   0.,   0.,   0.],\n",
              "        [  0.,   0.,   0.,   0.,   0.,   0.],\n",
              "        [  0.,   0.,   0.,   0.,   0.,   0.]])"
            ]
          },
          "metadata": {},
          "execution_count": 12
        }
      ]
    },
    {
      "cell_type": "code",
      "source": [
        "#Training\n",
        "#Train over 10,000 iterations\n",
        "for i in range(10000):\n",
        "  current_state=np.random.randint(0,int(Q.shape[0]))\n",
        "  available_act=available_actions(current_state)\n",
        "  action=sample_next_action(available_act)\n",
        "  update(current_state,action,gamma)\n",
        "\n",
        "#normalize the trained Q-matrix\n",
        "print(\"Trained Q matrix:\")\n",
        "print(Q/np.max(Q)*100)"
      ],
      "metadata": {
        "colab": {
          "base_uri": "https://localhost:8080/"
        },
        "id": "Pl94HWwA-ak1",
        "outputId": "86abe88b-c7ad-4627-da0b-89b31a8d9ebc"
      },
      "execution_count": 13,
      "outputs": [
        {
          "output_type": "stream",
          "name": "stdout",
          "text": [
            "Trained Q matrix:\n",
            "[[  0.    0.    0.    0.   80.    0. ]\n",
            " [  0.    0.    0.   64.    0.  100. ]\n",
            " [  0.    0.    0.   64.    0.    0. ]\n",
            " [  0.   80.   51.2   0.   80.    0. ]\n",
            " [  0.   80.   51.2   0.    0.  100. ]\n",
            " [  0.   80.    0.    0.   80.  100. ]]\n"
          ]
        }
      ]
    },
    {
      "cell_type": "code",
      "source": [
        "current_state = 1\n",
        "steps = [current_state]\n",
        "\n",
        "while current_state != 5:\n",
        "  next_step_index = np.where(Q[current_state,]==np.max(Q[current_state,]))[1]\n",
        "  if next_step_index.shape[0]>1:\n",
        "    next_step_index = int(np.random.choice(next_step_index, size=1))\n",
        "  else:\n",
        "    next_step_index = int(next_step_index)\n",
        "\n",
        "  steps.append(next_step_index)\n",
        "  current_state = next_step_index\n",
        "\n",
        "  #print selected step sequence\n",
        "print(\"Selected path: \")\n",
        "print(steps)"
      ],
      "metadata": {
        "colab": {
          "base_uri": "https://localhost:8080/"
        },
        "id": "PSrX2S_w4ZBA",
        "outputId": "33d4d784-8d98-4f79-eea9-ce3fb2450453"
      },
      "execution_count": 14,
      "outputs": [
        {
          "output_type": "stream",
          "name": "stdout",
          "text": [
            "Selected path: \n",
            "[1, 5]\n"
          ]
        }
      ]
    }
  ]
}